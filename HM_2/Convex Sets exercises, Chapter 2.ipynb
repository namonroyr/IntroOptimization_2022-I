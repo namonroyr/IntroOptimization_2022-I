{
 "cells": [
  {
   "cell_type": "markdown",
   "id": "7ab1d646",
   "metadata": {},
   "source": [
    "## Convex Sets exercises\n",
    "### Book: Convex Optimization - S. Boyd & L. Vandenberghe\n",
    "#### Introduction to Optmization 2022-I"
   ]
  },
  {
   "cell_type": "markdown",
   "id": "e483848e",
   "metadata": {},
   "source": [
    "__2.1__ \n",
    "Let $C ⊆ R^n$ be a convex set, with $x_1 , . . . , x_k ∈ C$, and let $θ_1 , . . . , θ_k ∈ R^n$ satisfy $θ_i$ ≥ 0,\n",
    "$θ_1 + · · · + θ_k = 1$. Show that $θ_1 x_1 + · · · + θ_k x_k ∈ C$. (The definition of convexity is that\n",
    "this holds for k = 2; you must show it for arbitrary k.) Hint. Use induction on k."
   ]
  },
  {
   "cell_type": "markdown",
   "id": "e3218223",
   "metadata": {},
   "source": [
    "**Proof:** By induction on $k$.\n",
    "\n",
    "**Base Case** \\\n",
    "$k=1$ is the trivial case since it just says that each point of C belongs to C. $k=2$, corresponds to the definition of convex set, where for any $x_1, x_2 \\in C$, $\\theta_1 x_1 + \\theta_2 x_2 \\in C$.\n",
    "\n",
    "**Induction Hypothesis** \\\n",
    "Now, let's suppose that for any combination of $k-1$ points in C, and any $θ_1 ,\\cdots, θ_{k-1} ∈ R^n$ such that $θ_i$ ≥ 0, and $θ_1 + \\cdots + θ_k = 1$. It is true that $θ_1 x_1 +\\cdots+ θ_k x_{k-1} ∈ C$.\n",
    " \n",
    "**Inductive Step** \\\n",
    "Let $x_1 , \\cdots, x_k ∈ C$, with $θ_1 ,\\cdots, θ_k ∈ R^n$ that satisfy $θ_i$ ≥ 0, $θ_1 +\\cdots+ θ_k = 1$. By inductive hypothesis, we know that:\n",
    "\n",
    "$y = \\frac{\\theta_1}{\\theta_1+\\cdots+\\theta_{k-1}}x_1 +\\cdots+ \\frac{\\theta_1{k-1}}{\\theta_1+\\cdots+\\theta_{k-1}}x_{k-1}   \\in C$\n",
    "\n",
    "This is true in the case where $\\theta_1+· · ·+\\theta_{k-1}$ is different from $0$. Otherwise the only non-zero coefficient would be $x_{k}$, and we have the trivial case where $k=1$.\n",
    "\n",
    "The convex combination can be written now as:\n",
    "\n",
    "$\\theta_1 x_1 +\\cdots+ \\theta_k x_k = (1-\\theta_k) y + \\theta_k x_k$\n",
    "\n",
    "Which lies on the line segment $[y, x_k]$, where $1-\\theta_k = \\theta_1+\\cdots+\\theta_{k-1}$. Therefore, by definition of the convex set, as we have two points $y, x_k \\in C$ the line segment between them, also lies in $C$. Hence, $x_1 \\theta_1 + \\cdots + x_k \\theta_k \\in C$."
   ]
  },
  {
   "cell_type": "markdown",
   "id": "8e746285",
   "metadata": {},
   "source": [
    "__2.3__ _Midpoint convexity._  A set C is _midpoint convex_ if whenever two points a, b are in C, the average or midpoint $(a + b)/2$ is in $C$. Obviously a convex set is midpoint convex. It can be proved that under mild conditions midpoint convexity implies convexity. As a simple case, prove that if C is closed and midpoint convex, then C is convex."
   ]
  },
  {
   "cell_type": "markdown",
   "id": "6205fa16",
   "metadata": {},
   "source": [
    "**Proof:**\n",
    "\n",
    "Let $a,b \\in C$ and assume that $c$ is a point on the line segment between $a$ and $b$. Now, consider the sequence ${c_i} := \\frac{a_i+b_i}{2}$ with $a_0 = a$, $b_{0} = b$ and:\n",
    "\n",
    "\\begin{equation}\n",
    "a_{i+1}=\n",
    "    \\begin{cases}\n",
    "        c_{i} & \\text{if } c_i \\leq c\\\\\n",
    "        a_{i} & \\text{if } c_i > c\n",
    "    \\end{cases}\n",
    "\\end{equation}\n",
    "\n",
    "\n",
    "\\begin{equation}\n",
    "b_{i+1}=\n",
    "    \\begin{cases}\n",
    "        c_{i} & \\text{if } c_i > c\\\\\n",
    "        b_{i} & \\text{if } c_i \\leq c\n",
    "    \\end{cases}\n",
    "\\end{equation}\n",
    "\n",
    "By this, $c$ is always lies on the line segment between $a_i$ and $b_i$, so we have $||c_i − c||≤||a − b||2^{-i}$ which means that the sequence ${c_i}$ converges to $c$. By midpoint convexity of $C$ we have $c_i \\in C$ for all $i$, and because $C$ is closed, we have $c \\in C$. This is true for all $c$ on the line segment between $a$ and $b$, so $C$ is convex."
   ]
  },
  {
   "cell_type": "markdown",
   "id": "0dbd19de",
   "metadata": {},
   "source": [
    "__2.4__ Show that the convex hull of a set S is the intersection of all convex sets that contain S.\n",
    "(The same method can be used to show that the conic, or affine, or linear hull of a set S\n",
    "is the intersection of all conic sets, or affine sets, or subspaces that contain S."
   ]
  },
  {
   "cell_type": "markdown",
   "id": "dadd4463",
   "metadata": {},
   "source": [
    "**Proof:**\n",
    "\n",
    "Let $H= hull(S)$ and $C$, a convex set such that $S \\subseteq C$. Now, take $W$ as the intersection of all convex sets that contain S. We will prove that $H=W$.\n",
    "\n",
    "**$\\rightarrow H \\subseteq W$:** \\\n",
    "Let $x \\in H$, as $H$ is the convex hull of S, it contains all convex combinations of its points. Therefore, $x = \\theta_1 x_1+ \\cdots + \\theta_n x_n$ where $x_1, \\cdots, x_n \\in S$, $\\theta_1 + \\cdots + \\theta_n = 1$ and $\\theta_i \\geq 0$. Now, as $C$ is convex and it contains all points in $S$, by definition of a convex set, it also contains any convex combination of points in $S$. Therefore, for any $x \\in H$, we have $x \\in C$, hence $H \\subseteq C$. This applies to any convex set that contains $S$. Thus, $x$ also belongs to the intersection of such sets i.e. $x \\in W$ and we proved that $H \\subseteq W$.\n",
    "\n",
    "**$\\leftarrow W \\subseteq H$:** \\\n",
    "As $H$ is convex by definition and contains all convex combinations of points in $S$, $S \\subseteq H$. Now, we have $W = \\bigcap \\{C | C is convex and S \\subseteq C\\}$ and it must be the case that there is a $C$ in $W$ such that $C = H$. Therefore, as $W$ is an intersection, it follows that $W \\subseteq C$ and $W \\subseteq H$.\n",
    "\n",
    "Finally, as we showed that $H \\subseteq W$ and $W \\subseteq H$, we can conclude that $H = W$."
   ]
  },
  {
   "cell_type": "markdown",
   "id": "cc64a40c",
   "metadata": {},
   "source": [
    "__2.5__ What is the distance between two parallel hyperplanes $\\{x ∈  𝑅^{n}  | a^{T} x =  𝑏_{1} \\}$ and $\\{x ∈  𝑅^{n}  | a^{T} x =  𝑏_{2}\\}$?"
   ]
  },
  {
   "cell_type": "markdown",
   "id": "af5ff1f3",
   "metadata": {},
   "source": [
    "__Solution:__\n",
    "\n",
    "The distance between two paralel hyperplanes is the distance between two points, on each of the hyperplanes, both belonging to the line with the direction of the normal vector to the hyperplanes $a$. These two points, let them be $x_1$ and $x_2$, are multiples of $a$, given by:\n",
    "\n",
    "$$x_1 = c_{1}a$$\n",
    "$$x_2 = c_{2}a$$\n",
    "\n",
    "At the same time, $x_a$ and $x_2$ satisfy the equation of their corresponding hyperplanes:\n",
    "\n",
    "$$ h_1 = a^{T}x_1 = b_1$$\n",
    "$$ h_2 = a^{T}x_2 = b_2$$\n",
    "\n",
    "From this equations que can get $c_1$ and $c_2$:\n",
    "\n",
    "$$ a^{T}(c_{1}a) = b_1$$\n",
    "$$ c_{1} = \\frac{b_1}{a^{T}a}$$\n",
    "\n",
    "$$ a^{T}(c_{2}a) = b_2$$\n",
    "$$ c_{2} = \\frac{b_2}{a^{T}a}$$\n",
    "\n",
    "Therefore we can now define $x_1$ and $x_2$ as:\n",
    "\n",
    "$$x_1 = c_{1}a = \\frac{b_1 a}{a^{T}a} = \\frac{b_1 a}{\\| a \\|^{2}_{2}} $$\n",
    "$$x_2 = c_2a = \\frac{b_2 a}{a^{T}a} = \\frac{b_2 a}{\\| a \\|^{2}_{2}}$$\n",
    "\n",
    "Thus, the distance $d$ between two paralel hyperplanes would be:\n",
    "\n",
    "$$d = \\|x_1-x_2\\|_{2} = \\left\\|\\frac{b_1 a}{\\| a \\|^{2}_{2}}-\\frac{b_2 a}{\\| a \\|^{2}_{2}}\\right\\| = \\frac{1}{\\| a \\|^{2}_{2}} \\cdot |b_1-b_2| \\| a \\|^{2} = \\frac{|b_1-b_2|}{\\|a\\|_2}$$\n",
    "\n",
    "with ${\\|a\\|_2} \\neq 0$."
   ]
  },
  {
   "cell_type": "markdown",
   "id": "f3e0bcf1",
   "metadata": {},
   "source": [
    "__2.8__ Which of the following sets $S$ are polyhedra? If possible, express $S$ in the form $S =\\{x | Ax \\preceq b, F x = g\\}$.\n",
    "\n",
    "__(a)__ $S = \\{y_1 a_1 + y_2 a_2 | -1 \\leq y_1 \\leq 1, -1 \\leq y_2 \\leq 1\\}$, where $a_1,a_2 \\in R^n$.\n",
    "\n",
    "__(b)__ $S = \\{x \\in R^n | x \\succeq 0, 1^T x = 1, \\sum_{i=1}^{n} x_i a_i = b_1, \\sum_{i=1}^{n} x_i a^{2}_{i} = b_2\\}$ where $a_1, \\cdots , a_n \\in R$ and $b_1, b_2 \\in R$.\n",
    "\n",
    "__(c)__ $S=\\{ x \\in R^n | x \\geq 0, x^T y \\leq 1 \\text{ for all }y\\text{ such that }\\|y\\|_2 = 1\\}$\n",
    "\n",
    "__(d)__ $S=\\{ x \\in R^n | x \\geq 0, x^T y \\leq 1 \\text{ for all }y\\text{ such that } \\sum |y|_i = 1\\}$"
   ]
  },
  {
   "cell_type": "markdown",
   "id": "38b04d75",
   "metadata": {},
   "source": []
  }
 ],
 "metadata": {
  "kernelspec": {
   "display_name": "Julia 1.7.2",
   "language": "julia",
   "name": "julia-1.7"
  },
  "language_info": {
   "file_extension": ".jl",
   "mimetype": "application/julia",
   "name": "julia",
   "version": "1.7.2"
  }
 },
 "nbformat": 4,
 "nbformat_minor": 5
}
